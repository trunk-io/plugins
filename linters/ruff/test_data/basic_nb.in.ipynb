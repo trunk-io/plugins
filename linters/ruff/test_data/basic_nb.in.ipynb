{
  "nbformat": 4,
  "nbformat_minor": 0,
  "metadata": {
    "colab": {
      "provenance": []
    },
    "kernelspec": {
      "name": "python3",
      "display_name": "Python 3"
    },
    "language_info": {
      "name": "python"
    }
  },
  "cells": [
    {
      "cell_type": "markdown",
      "source": [
        "# Test Notebook"
      ],
      "metadata": {
        "id": "LbWsYSsF_n0F"
      }
    },
    {
      "cell_type": "code",
      "execution_count": null,
      "metadata": {
        "id": "LhkRbbgv_QeE"
      },
      "outputs": [],
      "source": [
        "import os\n",
        "\n",
        "print(\"Hello World!\")"
      ]
    }
  ]
}
